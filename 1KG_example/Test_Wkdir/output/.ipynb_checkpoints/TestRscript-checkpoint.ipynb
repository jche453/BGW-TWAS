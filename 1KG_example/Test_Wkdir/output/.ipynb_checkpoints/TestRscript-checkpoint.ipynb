{
 "cells": [
  {
   "cell_type": "code",
   "execution_count": 25,
   "metadata": {
    "collapsed": true
   },
   "outputs": [],
   "source": [
    "library(data.table)\n",
    "source(\"/net/fantasia/home/yjingj/Scripts/Rscript/R_Funcs/LoadData_func.r\")\n",
    "source(\"/net/fantasia/home/yjingj/Scripts/Rscript/R_Funcs/qplot_func.r\")\n",
    "\n",
    "data_dir=\"/net/fantasia/home/yjingj/GIT/bfGWAS_SS/1KG_example/Test_Wkdir/output/\"\n"
   ]
  },
  {
   "cell_type": "code",
   "execution_count": 33,
   "metadata": {
    "collapsed": false
   },
   "outputs": [
    {
     "data": {
      "text/html": [
       "<ol class=list-inline>\n",
       "\t<li>3689</li>\n",
       "\t<li>12</li>\n",
       "</ol>\n"
      ],
      "text/latex": [
       "\\begin{enumerate*}\n",
       "\\item 3689\n",
       "\\item 12\n",
       "\\end{enumerate*}\n"
      ],
      "text/markdown": [
       "1. 3689\n",
       "2. 12\n",
       "\n",
       "\n"
      ],
      "text/plain": [
       "[1] 3689   12"
      ]
     },
     "metadata": {},
     "output_type": "display_data"
    },
    {
     "data": {
      "text/html": [
       "<table>\n",
       "<thead><tr><th scope=col>ID</th><th scope=col>chr</th><th scope=col>bp</th><th scope=col>ref</th><th scope=col>alt</th><th scope=col>maf</th><th scope=col>func</th><th scope=col>beta</th><th scope=col>pi</th><th scope=col>Chi2</th><th scope=col>pval_Chi2</th><th scope=col>rank</th></tr></thead>\n",
       "<tbody>\n",
       "\t<tr><td>esv3588466                                                </td><td>1                                                         </td><td>196602664                                                 </td><td><span style=white-space:pre-wrap>&lt;CN0&gt;       </span></td><td>A                                                         </td><td>0.03434505                                                </td><td>5                                                         </td><td>0                                                         </td><td>0                                                         </td><td> 9.2998740                                                </td><td>0.0022916960                                              </td><td> 455                                                      </td></tr>\n",
       "\t<tr><td>esv3588478                                                </td><td>1                                                         </td><td>196782355                                                 </td><td><span style=white-space:pre-wrap>&lt;CN0&gt;       </span></td><td>G                                                         </td><td>0.01936901                                                </td><td>5                                                         </td><td>0                                                         </td><td>0                                                         </td><td> 2.6894940                                                </td><td>0.1010119000                                              </td><td>1355                                                      </td></tr>\n",
       "\t<tr><td>esv3588481                                                </td><td>1                                                         </td><td>196852281                                                 </td><td><span style=white-space:pre-wrap>&lt;CN0&gt;       </span></td><td>T                                                         </td><td>0.01697284                                                </td><td>5                                                         </td><td>0                                                         </td><td>0                                                         </td><td> 4.6628440                                                </td><td>0.0308221000                                              </td><td>1051                                                      </td></tr>\n",
       "\t<tr><td>esv3588483        </td><td>1                 </td><td>196886381         </td><td>&lt;INS:ME:ALU&gt;</td><td>A                 </td><td>0.02535942        </td><td>5                 </td><td>0                 </td><td>0                 </td><td>12.3712100        </td><td>0.0004360061      </td><td> 238              </td></tr>\n",
       "\t<tr><td>rs1009188   </td><td>1           </td><td>197257090   </td><td>C           </td><td>T           </td><td>0.18929710  </td><td>0           </td><td>0           </td><td>0           </td><td> 0.6696323  </td><td>0.4131798000</td><td>2659        </td></tr>\n",
       "\t<tr><td>rs10159146  </td><td>1           </td><td>196181359   </td><td>G           </td><td>A           </td><td>0.98722040  </td><td>0           </td><td>0           </td><td>0           </td><td> 1.9623080  </td><td>0.1612667000</td><td>1636        </td></tr>\n",
       "</tbody>\n",
       "</table>\n"
      ],
      "text/latex": [
       "\\begin{tabular}{r|llllllllllll}\n",
       " ID & chr & bp & ref & alt & maf & func & beta & pi & Chi2 & pval\\_Chi2 & rank\\\\\n",
       "\\hline\n",
       "\t esv3588466   & 1            & 196602664    & <CN0>        & A            & 0.03434505   & 5            & 0            & 0            &  9.2998740   & 0.0022916960 &  455        \\\\\n",
       "\t esv3588478   & 1            & 196782355    & <CN0>        & G            & 0.01936901   & 5            & 0            & 0            &  2.6894940   & 0.1010119000 & 1355        \\\\\n",
       "\t esv3588481   & 1            & 196852281    & <CN0>        & T            & 0.01697284   & 5            & 0            & 0            &  4.6628440   & 0.0308221000 & 1051        \\\\\n",
       "\t esv3588483   & 1            & 196886381    & <INS:ME:ALU> & A            & 0.02535942   & 5            & 0            & 0            & 12.3712100   & 0.0004360061 &  238        \\\\\n",
       "\t rs1009188    & 1            & 197257090    & C            & T            & 0.18929710   & 0            & 0            & 0            &  0.6696323   & 0.4131798000 & 2659        \\\\\n",
       "\t rs10159146   & 1            & 196181359    & G            & A            & 0.98722040   & 0            & 0            & 0            &  1.9623080   & 0.1612667000 & 1636        \\\\\n",
       "\\end{tabular}\n"
      ],
      "text/markdown": [
       "\n",
       "ID | chr | bp | ref | alt | maf | func | beta | pi | Chi2 | pval_Chi2 | rank | \n",
       "|---|---|---|---|---|---|\n",
       "| esv3588466   | 1            | 196602664    | <CN0>        | A            | 0.03434505   | 5            | 0            | 0            |  9.2998740   | 0.0022916960 |  455         | \n",
       "| esv3588478   | 1            | 196782355    | <CN0>        | G            | 0.01936901   | 5            | 0            | 0            |  2.6894940   | 0.1010119000 | 1355         | \n",
       "| esv3588481   | 1            | 196852281    | <CN0>        | T            | 0.01697284   | 5            | 0            | 0            |  4.6628440   | 0.0308221000 | 1051         | \n",
       "| esv3588483   | 1            | 196886381    | <INS:ME:ALU> | A            | 0.02535942   | 5            | 0            | 0            | 12.3712100   | 0.0004360061 |  238         | \n",
       "| rs1009188    | 1            | 197257090    | C            | T            | 0.18929710   | 0            | 0            | 0            |  0.6696323   | 0.4131798000 | 2659         | \n",
       "| rs10159146   | 1            | 196181359    | G            | A            | 0.98722040   | 0            | 0            | 0            |  1.9623080   | 0.1612667000 | 1636         | \n",
       "\n",
       "\n"
      ],
      "text/plain": [
       "  ID         chr bp        ref          alt maf        func beta pi Chi2      \n",
       "1 esv3588466 1   196602664 <CN0>        A   0.03434505 5    0    0   9.2998740\n",
       "2 esv3588478 1   196782355 <CN0>        G   0.01936901 5    0    0   2.6894940\n",
       "3 esv3588481 1   196852281 <CN0>        T   0.01697284 5    0    0   4.6628440\n",
       "4 esv3588483 1   196886381 <INS:ME:ALU> A   0.02535942 5    0    0  12.3712100\n",
       "5 rs1009188  1   197257090 C            T   0.18929710 0    0    0   0.6696323\n",
       "6 rs10159146 1   196181359 G            A   0.98722040 0    0    0   1.9623080\n",
       "  pval_Chi2    rank\n",
       "1 0.0022916960  455\n",
       "2 0.1010119000 1355\n",
       "3 0.0308221000 1051\n",
       "4 0.0004360061  238\n",
       "5 0.4131798000 2659\n",
       "6 0.1612667000 1636"
      ]
     },
     "metadata": {},
     "output_type": "display_data"
    },
    {
     "data": {
      "text/html": [
       "<ol class=list-inline>\n",
       "\t<li>3689</li>\n",
       "\t<li>14</li>\n",
       "</ol>\n"
      ],
      "text/latex": [
       "\\begin{enumerate*}\n",
       "\\item 3689\n",
       "\\item 14\n",
       "\\end{enumerate*}\n"
      ],
      "text/markdown": [
       "1. 3689\n",
       "2. 14\n",
       "\n",
       "\n"
      ],
      "text/plain": [
       "[1] 3689   14"
      ]
     },
     "metadata": {},
     "output_type": "display_data"
    },
    {
     "data": {
      "text/html": [
       "<table>\n",
       "<thead><tr><th scope=col>ID</th><th scope=col>chr</th><th scope=col>bp</th><th scope=col>ref</th><th scope=col>alt</th><th scope=col>maf</th><th scope=col>func</th><th scope=col>beta</th><th scope=col>pi</th><th scope=col>Zscore</th><th scope=col>SE_beta</th><th scope=col>LRT</th><th scope=col>pval_LRT</th><th scope=col>rank</th></tr></thead>\n",
       "<tbody>\n",
       "\t<tr><td>esv3588466                                                </td><td>1                                                         </td><td>196602664                                                 </td><td><span style=white-space:pre-wrap>&lt;CN0&gt;       </span></td><td>A                                                         </td><td>0.03434505                                                </td><td>5                                                         </td><td>0                                                         </td><td>0                                                         </td><td>-3.0439220                                                </td><td>0.07619303                                                </td><td> 9.2826470                                                </td><td>0.0023133490                                              </td><td> 455                                                      </td></tr>\n",
       "\t<tr><td>esv3588478                                                </td><td>1                                                         </td><td>196782355                                                 </td><td><span style=white-space:pre-wrap>&lt;CN0&gt;       </span></td><td>G                                                         </td><td>0.01936901                                                </td><td>5                                                         </td><td>0                                                         </td><td>0                                                         </td><td> 1.6390880                                                </td><td>0.10138770                                                </td><td> 2.6880510                                                </td><td>0.1011034000                                              </td><td>1355                                                      </td></tr>\n",
       "\t<tr><td>esv3588481                                                </td><td>1                                                         </td><td>196852281                                                 </td><td><span style=white-space:pre-wrap>&lt;CN0&gt;       </span></td><td>T                                                         </td><td>0.01697284                                                </td><td>5                                                         </td><td>0                                                         </td><td>0                                                         </td><td> 2.1573540                                                </td><td>0.10773950                                                </td><td> 4.6585080                                                </td><td>0.0309000300                                              </td><td>1051                                                      </td></tr>\n",
       "\t<tr><td>esv3588483        </td><td>1                 </td><td>196886381         </td><td>&lt;INS:ME:ALU&gt;</td><td>A                 </td><td>0.02535942        </td><td>5                 </td><td>0                 </td><td>0                 </td><td> 3.5086160        </td><td>0.09105713        </td><td>12.3407400        </td><td>0.0004431782      </td><td> 238              </td></tr>\n",
       "\t<tr><td>rs1009188   </td><td>1           </td><td>197257090   </td><td>C           </td><td>T           </td><td>0.18929710  </td><td>0           </td><td>0           </td><td>0           </td><td> 0.8182012  </td><td>0.03501949  </td><td> 0.6695428  </td><td>0.4132111000</td><td>2659        </td></tr>\n",
       "\t<tr><td>rs10159146  </td><td>1           </td><td>196181359   </td><td>G           </td><td>A           </td><td>0.98722040  </td><td>0           </td><td>0           </td><td>0           </td><td> 1.4002750  </td><td>0.12462090  </td><td> 1.9615390  </td><td>0.1613488000</td><td>1636        </td></tr>\n",
       "</tbody>\n",
       "</table>\n"
      ],
      "text/latex": [
       "\\begin{tabular}{r|llllllllllllll}\n",
       " ID & chr & bp & ref & alt & maf & func & beta & pi & Zscore & SE\\_beta & LRT & pval\\_LRT & rank\\\\\n",
       "\\hline\n",
       "\t esv3588466   & 1            & 196602664    & <CN0>        & A            & 0.03434505   & 5            & 0            & 0            & -3.0439220   & 0.07619303   &  9.2826470   & 0.0023133490 &  455        \\\\\n",
       "\t esv3588478   & 1            & 196782355    & <CN0>        & G            & 0.01936901   & 5            & 0            & 0            &  1.6390880   & 0.10138770   &  2.6880510   & 0.1011034000 & 1355        \\\\\n",
       "\t esv3588481   & 1            & 196852281    & <CN0>        & T            & 0.01697284   & 5            & 0            & 0            &  2.1573540   & 0.10773950   &  4.6585080   & 0.0309000300 & 1051        \\\\\n",
       "\t esv3588483   & 1            & 196886381    & <INS:ME:ALU> & A            & 0.02535942   & 5            & 0            & 0            &  3.5086160   & 0.09105713   & 12.3407400   & 0.0004431782 &  238        \\\\\n",
       "\t rs1009188    & 1            & 197257090    & C            & T            & 0.18929710   & 0            & 0            & 0            &  0.8182012   & 0.03501949   &  0.6695428   & 0.4132111000 & 2659        \\\\\n",
       "\t rs10159146   & 1            & 196181359    & G            & A            & 0.98722040   & 0            & 0            & 0            &  1.4002750   & 0.12462090   &  1.9615390   & 0.1613488000 & 1636        \\\\\n",
       "\\end{tabular}\n"
      ],
      "text/markdown": [
       "\n",
       "ID | chr | bp | ref | alt | maf | func | beta | pi | Zscore | SE_beta | LRT | pval_LRT | rank | \n",
       "|---|---|---|---|---|---|\n",
       "| esv3588466   | 1            | 196602664    | <CN0>        | A            | 0.03434505   | 5            | 0            | 0            | -3.0439220   | 0.07619303   |  9.2826470   | 0.0023133490 |  455         | \n",
       "| esv3588478   | 1            | 196782355    | <CN0>        | G            | 0.01936901   | 5            | 0            | 0            |  1.6390880   | 0.10138770   |  2.6880510   | 0.1011034000 | 1355         | \n",
       "| esv3588481   | 1            | 196852281    | <CN0>        | T            | 0.01697284   | 5            | 0            | 0            |  2.1573540   | 0.10773950   |  4.6585080   | 0.0309000300 | 1051         | \n",
       "| esv3588483   | 1            | 196886381    | <INS:ME:ALU> | A            | 0.02535942   | 5            | 0            | 0            |  3.5086160   | 0.09105713   | 12.3407400   | 0.0004431782 |  238         | \n",
       "| rs1009188    | 1            | 197257090    | C            | T            | 0.18929710   | 0            | 0            | 0            |  0.8182012   | 0.03501949   |  0.6695428   | 0.4132111000 | 2659         | \n",
       "| rs10159146   | 1            | 196181359    | G            | A            | 0.98722040   | 0            | 0            | 0            |  1.4002750   | 0.12462090   |  1.9615390   | 0.1613488000 | 1636         | \n",
       "\n",
       "\n"
      ],
      "text/plain": [
       "  ID         chr bp        ref          alt maf        func beta pi Zscore    \n",
       "1 esv3588466 1   196602664 <CN0>        A   0.03434505 5    0    0  -3.0439220\n",
       "2 esv3588478 1   196782355 <CN0>        G   0.01936901 5    0    0   1.6390880\n",
       "3 esv3588481 1   196852281 <CN0>        T   0.01697284 5    0    0   2.1573540\n",
       "4 esv3588483 1   196886381 <INS:ME:ALU> A   0.02535942 5    0    0   3.5086160\n",
       "5 rs1009188  1   197257090 C            T   0.18929710 0    0    0   0.8182012\n",
       "6 rs10159146 1   196181359 G            A   0.98722040 0    0    0   1.4002750\n",
       "  SE_beta    LRT        pval_LRT     rank\n",
       "1 0.07619303  9.2826470 0.0023133490  455\n",
       "2 0.10138770  2.6880510 0.1011034000 1355\n",
       "3 0.10773950  4.6585080 0.0309000300 1051\n",
       "4 0.09105713 12.3407400 0.0004431782  238\n",
       "5 0.03501949  0.6695428 0.4132111000 2659\n",
       "6 0.12462090  1.9615390 0.1613488000 1636"
      ]
     },
     "metadata": {},
     "output_type": "display_data"
    },
    {
     "data": {
      "text/html": [
       "3689"
      ],
      "text/latex": [
       "3689"
      ],
      "text/markdown": [
       "3689"
      ],
      "text/plain": [
       "[1] 3689"
      ]
     },
     "metadata": {},
     "output_type": "display_data"
    }
   ],
   "source": [
    "filehead=\"CFH_REGION_1KG\"\n",
    "\n",
    "paramdata_SS = Load_bfGWAS_SS(paste(data_dir, filehead, \"_SS.paramtemp\", sep=\"\"), header = FALSE)\n",
    "dim(paramdata_SS)\n",
    "head(paramdata_SS)\n",
    "\n",
    "paramdata = Load_bfGWAS(paste(data_dir, filehead, \".paramtemp\", sep=\"\"))\n",
    "dim(paramdata)\n",
    "head(paramdata)\n",
    "\n",
    "sum(paramdata$ID == paramdata_SS$ID)"
   ]
  },
  {
   "cell_type": "code",
   "execution_count": 36,
   "metadata": {
    "collapsed": false
   },
   "outputs": [
    {
     "data": {
      "text/html": [
       "<ol class=list-inline>\n",
       "\t<li>0</li>\n",
       "\t<li>0.894</li>\n",
       "</ol>\n"
      ],
      "text/latex": [
       "\\begin{enumerate*}\n",
       "\\item 0\n",
       "\\item 0.894\n",
       "\\end{enumerate*}\n"
      ],
      "text/markdown": [
       "1. 0\n",
       "2. 0.894\n",
       "\n",
       "\n"
      ],
      "text/plain": [
       "[1] 0.000 0.894"
      ]
     },
     "metadata": {},
     "output_type": "display_data"
    },
    {
     "data": {
      "text/html": [
       "<ol class=list-inline>\n",
       "\t<li>54</li>\n",
       "\t<li>81</li>\n",
       "\t<li>82</li>\n",
       "\t<li>1289</li>\n",
       "\t<li>2407</li>\n",
       "</ol>\n"
      ],
      "text/latex": [
       "\\begin{enumerate*}\n",
       "\\item 54\n",
       "\\item 81\n",
       "\\item 82\n",
       "\\item 1289\n",
       "\\item 2407\n",
       "\\end{enumerate*}\n"
      ],
      "text/markdown": [
       "1. 54\n",
       "2. 81\n",
       "3. 82\n",
       "4. 1289\n",
       "5. 2407\n",
       "\n",
       "\n"
      ],
      "text/plain": [
       "[1]   54   81   82 1289 2407"
      ]
     },
     "metadata": {},
     "output_type": "display_data"
    },
    {
     "data": {
      "text/html": [
       "<table>\n",
       "<thead><tr><th scope=col>ID</th><th scope=col>chr</th><th scope=col>bp</th><th scope=col>ref</th><th scope=col>alt</th><th scope=col>maf</th><th scope=col>func</th><th scope=col>beta</th><th scope=col>pi</th><th scope=col>Chi2</th><th scope=col>pval_Chi2</th><th scope=col>rank</th></tr></thead>\n",
       "<tbody>\n",
       "\t<tr><td>rs10801558  </td><td>1           </td><td>196699044   </td><td>G           </td><td>T           </td><td>0.5075879   </td><td>0           </td><td>-0.2263845  </td><td>0.1485      </td><td>146.5545    </td><td>9.820425e-34</td><td>1           </td></tr>\n",
       "\t<tr><td>rs10922108  </td><td>1           </td><td>196701473   </td><td>T           </td><td>A           </td><td>0.5079872   </td><td>0           </td><td>-0.2300699  </td><td>0.1899      </td><td>146.5443    </td><td>9.870634e-34</td><td>3           </td></tr>\n",
       "\t<tr><td>rs10922109  </td><td>1           </td><td>196704632   </td><td>A           </td><td>C           </td><td>0.5075879   </td><td>0           </td><td>-0.2315293  </td><td>0.2006      </td><td>146.5545    </td><td>9.820425e-34</td><td>2           </td></tr>\n",
       "\t<tr><td>rs1410996   </td><td>1           </td><td>196696933   </td><td>A           </td><td>G           </td><td>0.5049920   </td><td>0           </td><td>-0.2222921  </td><td>0.1333      </td><td>146.5122    </td><td>1.003172e-33</td><td>5           </td></tr>\n",
       "\t<tr><td>rs35352142  </td><td>1           </td><td>196712902   </td><td>T           </td><td>C           </td><td>0.1920927   </td><td>0           </td><td> 0.2875987  </td><td>0.8940      </td><td>151.1435    </td><td>9.750339e-35</td><td>0           </td></tr>\n",
       "</tbody>\n",
       "</table>\n"
      ],
      "text/latex": [
       "\\begin{tabular}{r|llllllllllll}\n",
       " ID & chr & bp & ref & alt & maf & func & beta & pi & Chi2 & pval\\_Chi2 & rank\\\\\n",
       "\\hline\n",
       "\t rs10801558   & 1            & 196699044    & G            & T            & 0.5075879    & 0            & -0.2263845   & 0.1485       & 146.5545     & 9.820425e-34 & 1           \\\\\n",
       "\t rs10922108   & 1            & 196701473    & T            & A            & 0.5079872    & 0            & -0.2300699   & 0.1899       & 146.5443     & 9.870634e-34 & 3           \\\\\n",
       "\t rs10922109   & 1            & 196704632    & A            & C            & 0.5075879    & 0            & -0.2315293   & 0.2006       & 146.5545     & 9.820425e-34 & 2           \\\\\n",
       "\t rs1410996    & 1            & 196696933    & A            & G            & 0.5049920    & 0            & -0.2222921   & 0.1333       & 146.5122     & 1.003172e-33 & 5           \\\\\n",
       "\t rs35352142   & 1            & 196712902    & T            & C            & 0.1920927    & 0            &  0.2875987   & 0.8940       & 151.1435     & 9.750339e-35 & 0           \\\\\n",
       "\\end{tabular}\n"
      ],
      "text/markdown": [
       "\n",
       "ID | chr | bp | ref | alt | maf | func | beta | pi | Chi2 | pval_Chi2 | rank | \n",
       "|---|---|---|---|---|\n",
       "| rs10801558   | 1            | 196699044    | G            | T            | 0.5075879    | 0            | -0.2263845   | 0.1485       | 146.5545     | 9.820425e-34 | 1            | \n",
       "| rs10922108   | 1            | 196701473    | T            | A            | 0.5079872    | 0            | -0.2300699   | 0.1899       | 146.5443     | 9.870634e-34 | 3            | \n",
       "| rs10922109   | 1            | 196704632    | A            | C            | 0.5075879    | 0            | -0.2315293   | 0.2006       | 146.5545     | 9.820425e-34 | 2            | \n",
       "| rs1410996    | 1            | 196696933    | A            | G            | 0.5049920    | 0            | -0.2222921   | 0.1333       | 146.5122     | 1.003172e-33 | 5            | \n",
       "| rs35352142   | 1            | 196712902    | T            | C            | 0.1920927    | 0            |  0.2875987   | 0.8940       | 151.1435     | 9.750339e-35 | 0            | \n",
       "\n",
       "\n"
      ],
      "text/plain": [
       "  ID         chr bp        ref alt maf       func beta       pi     Chi2    \n",
       "1 rs10801558 1   196699044 G   T   0.5075879 0    -0.2263845 0.1485 146.5545\n",
       "2 rs10922108 1   196701473 T   A   0.5079872 0    -0.2300699 0.1899 146.5443\n",
       "3 rs10922109 1   196704632 A   C   0.5075879 0    -0.2315293 0.2006 146.5545\n",
       "4 rs1410996  1   196696933 A   G   0.5049920 0    -0.2222921 0.1333 146.5122\n",
       "5 rs35352142 1   196712902 T   C   0.1920927 0     0.2875987 0.8940 151.1435\n",
       "  pval_Chi2    rank\n",
       "1 9.820425e-34 1   \n",
       "2 9.870634e-34 3   \n",
       "3 9.820425e-34 2   \n",
       "4 1.003172e-33 5   \n",
       "5 9.750339e-35 0   "
      ]
     },
     "metadata": {},
     "output_type": "display_data"
    },
    {
     "data": {
      "text/html": [
       "<ol class=list-inline>\n",
       "\t<li>54</li>\n",
       "\t<li>81</li>\n",
       "\t<li>82</li>\n",
       "\t<li>1289</li>\n",
       "\t<li>2407</li>\n",
       "\t<li>2478</li>\n",
       "</ol>\n"
      ],
      "text/latex": [
       "\\begin{enumerate*}\n",
       "\\item 54\n",
       "\\item 81\n",
       "\\item 82\n",
       "\\item 1289\n",
       "\\item 2407\n",
       "\\item 2478\n",
       "\\end{enumerate*}\n"
      ],
      "text/markdown": [
       "1. 54\n",
       "2. 81\n",
       "3. 82\n",
       "4. 1289\n",
       "5. 2407\n",
       "6. 2478\n",
       "\n",
       "\n"
      ],
      "text/plain": [
       "[1]   54   81   82 1289 2407 2478"
      ]
     },
     "metadata": {},
     "output_type": "display_data"
    },
    {
     "data": {
      "text/html": [
       "<table>\n",
       "<thead><tr><th scope=col>ID</th><th scope=col>chr</th><th scope=col>bp</th><th scope=col>ref</th><th scope=col>alt</th><th scope=col>maf</th><th scope=col>func</th><th scope=col>beta</th><th scope=col>pi</th><th scope=col>Zscore</th><th scope=col>SE_beta</th><th scope=col>LRT</th><th scope=col>pval_LRT</th><th scope=col>rank</th></tr></thead>\n",
       "<tbody>\n",
       "\t<tr><td>rs10801558  </td><td>1           </td><td>196699044   </td><td>G           </td><td>T           </td><td>0.5075879   </td><td>0           </td><td>-0.2215392  </td><td>0.1953      </td><td>-11.76653   </td><td>0.02817263  </td><td>142.4260    </td><td>7.847559e-33</td><td>1           </td></tr>\n",
       "\t<tr><td>rs10922108  </td><td>1           </td><td>196701473   </td><td>T           </td><td>A           </td><td>0.5079872   </td><td>0           </td><td>-0.2214062  </td><td>0.1559      </td><td>-11.76614   </td><td>0.02817333  </td><td>142.4164    </td><td>7.885465e-33</td><td>3           </td></tr>\n",
       "\t<tr><td>rs10922109  </td><td>1           </td><td>196704632   </td><td>A           </td><td>C           </td><td>0.5075879   </td><td>0           </td><td>-0.2215392  </td><td>0.1739      </td><td>-11.76653   </td><td>0.02817263  </td><td>142.4260    </td><td>7.847559e-33</td><td>2           </td></tr>\n",
       "\t<tr><td>rs1410996   </td><td>1           </td><td>196696933   </td><td>A           </td><td>G           </td><td>0.5049920   </td><td>0           </td><td>-0.2201108  </td><td>0.1362      </td><td>-11.76492   </td><td>0.02809103  </td><td>142.3860    </td><td>8.007010e-33</td><td>5           </td></tr>\n",
       "\t<tr><td>rs35352142  </td><td>1           </td><td>196712902   </td><td>T           </td><td>C           </td><td>0.1920927   </td><td>0           </td><td> 0.2875155  </td><td>1.0000      </td><td> 11.93900   </td><td>0.03494836  </td><td>146.7576    </td><td>8.865969e-34</td><td>0           </td></tr>\n",
       "\t<tr><td>rs3766405   </td><td>1           </td><td>196695161   </td><td>T           </td><td>C           </td><td>0.5049920   </td><td>0           </td><td>-0.2201108  </td><td>0.1224      </td><td>-11.76492   </td><td>0.02809103  </td><td>142.3860    </td><td>8.007010e-33</td><td>4           </td></tr>\n",
       "</tbody>\n",
       "</table>\n"
      ],
      "text/latex": [
       "\\begin{tabular}{r|llllllllllllll}\n",
       " ID & chr & bp & ref & alt & maf & func & beta & pi & Zscore & SE\\_beta & LRT & pval\\_LRT & rank\\\\\n",
       "\\hline\n",
       "\t rs10801558   & 1            & 196699044    & G            & T            & 0.5075879    & 0            & -0.2215392   & 0.1953       & -11.76653    & 0.02817263   & 142.4260     & 7.847559e-33 & 1           \\\\\n",
       "\t rs10922108   & 1            & 196701473    & T            & A            & 0.5079872    & 0            & -0.2214062   & 0.1559       & -11.76614    & 0.02817333   & 142.4164     & 7.885465e-33 & 3           \\\\\n",
       "\t rs10922109   & 1            & 196704632    & A            & C            & 0.5075879    & 0            & -0.2215392   & 0.1739       & -11.76653    & 0.02817263   & 142.4260     & 7.847559e-33 & 2           \\\\\n",
       "\t rs1410996    & 1            & 196696933    & A            & G            & 0.5049920    & 0            & -0.2201108   & 0.1362       & -11.76492    & 0.02809103   & 142.3860     & 8.007010e-33 & 5           \\\\\n",
       "\t rs35352142   & 1            & 196712902    & T            & C            & 0.1920927    & 0            &  0.2875155   & 1.0000       &  11.93900    & 0.03494836   & 146.7576     & 8.865969e-34 & 0           \\\\\n",
       "\t rs3766405    & 1            & 196695161    & T            & C            & 0.5049920    & 0            & -0.2201108   & 0.1224       & -11.76492    & 0.02809103   & 142.3860     & 8.007010e-33 & 4           \\\\\n",
       "\\end{tabular}\n"
      ],
      "text/markdown": [
       "\n",
       "ID | chr | bp | ref | alt | maf | func | beta | pi | Zscore | SE_beta | LRT | pval_LRT | rank | \n",
       "|---|---|---|---|---|---|\n",
       "| rs10801558   | 1            | 196699044    | G            | T            | 0.5075879    | 0            | -0.2215392   | 0.1953       | -11.76653    | 0.02817263   | 142.4260     | 7.847559e-33 | 1            | \n",
       "| rs10922108   | 1            | 196701473    | T            | A            | 0.5079872    | 0            | -0.2214062   | 0.1559       | -11.76614    | 0.02817333   | 142.4164     | 7.885465e-33 | 3            | \n",
       "| rs10922109   | 1            | 196704632    | A            | C            | 0.5075879    | 0            | -0.2215392   | 0.1739       | -11.76653    | 0.02817263   | 142.4260     | 7.847559e-33 | 2            | \n",
       "| rs1410996    | 1            | 196696933    | A            | G            | 0.5049920    | 0            | -0.2201108   | 0.1362       | -11.76492    | 0.02809103   | 142.3860     | 8.007010e-33 | 5            | \n",
       "| rs35352142   | 1            | 196712902    | T            | C            | 0.1920927    | 0            |  0.2875155   | 1.0000       |  11.93900    | 0.03494836   | 146.7576     | 8.865969e-34 | 0            | \n",
       "| rs3766405    | 1            | 196695161    | T            | C            | 0.5049920    | 0            | -0.2201108   | 0.1224       | -11.76492    | 0.02809103   | 142.3860     | 8.007010e-33 | 4            | \n",
       "\n",
       "\n"
      ],
      "text/plain": [
       "  ID         chr bp        ref alt maf       func beta       pi     Zscore   \n",
       "1 rs10801558 1   196699044 G   T   0.5075879 0    -0.2215392 0.1953 -11.76653\n",
       "2 rs10922108 1   196701473 T   A   0.5079872 0    -0.2214062 0.1559 -11.76614\n",
       "3 rs10922109 1   196704632 A   C   0.5075879 0    -0.2215392 0.1739 -11.76653\n",
       "4 rs1410996  1   196696933 A   G   0.5049920 0    -0.2201108 0.1362 -11.76492\n",
       "5 rs35352142 1   196712902 T   C   0.1920927 0     0.2875155 1.0000  11.93900\n",
       "6 rs3766405  1   196695161 T   C   0.5049920 0    -0.2201108 0.1224 -11.76492\n",
       "  SE_beta    LRT      pval_LRT     rank\n",
       "1 0.02817263 142.4260 7.847559e-33 1   \n",
       "2 0.02817333 142.4164 7.885465e-33 3   \n",
       "3 0.02817263 142.4260 7.847559e-33 2   \n",
       "4 0.02809103 142.3860 8.007010e-33 5   \n",
       "5 0.03494836 146.7576 8.865969e-34 0   \n",
       "6 0.02809103 142.3860 8.007010e-33 4   "
      ]
     },
     "metadata": {},
     "output_type": "display_data"
    }
   ],
   "source": [
    "#plot(-log10(paramdata_SS$pval_Chi2), -log10(paramdata$pval_LRT))\n",
    "\n",
    "range(paramdata_SS$pi)\n",
    "which(paramdata_SS$pi > 0.1068)\n",
    "paramdata_SS[paramdata_SS$pi > 0.1068, ]\n",
    "\n",
    "\n",
    "which(paramdata$pi > 0.1068)\n",
    "paramdata[paramdata$pi > 0.1068, ]\n",
    "\n",
    "\n",
    "\n",
    "#plot(paramdata_SS$pi, paramdata$pi)\n",
    "#abline(0, 1)"
   ]
  },
  {
   "cell_type": "code",
   "execution_count": 30,
   "metadata": {
    "collapsed": false
   },
   "outputs": [
    {
     "data": {
      "text/html": [
       "-0.00368900184460731"
      ],
      "text/latex": [
       "-0.00368900184460731"
      ],
      "text/markdown": [
       "-0.00368900184460731"
      ],
      "text/plain": [
       "[1] -0.003689002"
      ]
     },
     "metadata": {},
     "output_type": "display_data"
    }
   ],
   "source": [
    "sum(c(2792, 42, 0, 273, 0, 582) * log(1-1e-6))"
   ]
  }
 ],
 "metadata": {
  "kernelspec": {
   "display_name": "R",
   "language": "R",
   "name": "ir"
  },
  "language_info": {
   "codemirror_mode": "r",
   "file_extension": ".r",
   "mimetype": "text/x-r-source",
   "name": "R",
   "pygments_lexer": "r",
   "version": "3.3.2"
  }
 },
 "nbformat": 4,
 "nbformat_minor": 2
}
