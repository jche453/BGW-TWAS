{
 "cells": [
  {
   "cell_type": "code",
   "execution_count": 204,
   "metadata": {
    "collapsed": true
   },
   "outputs": [],
   "source": [
    "library(data.table)\n",
    "source(\"/net/fantasia/home/yjingj/Scripts/Rscript/R_Funcs/LoadData_func.r\")\n",
    "source(\"/net/fantasia/home/yjingj/Scripts/Rscript/R_Funcs/qplot_func.r\")\n",
    "\n",
    "data_dir=\"/net/fantasia/home/yjingj/GIT/bfGWAS_SS/1KG_example/Test_Wkdir/output/\"\n"
   ]
  },
  {
   "cell_type": "code",
   "execution_count": 146,
   "metadata": {
    "collapsed": false
   },
   "outputs": [
    {
     "data": {
      "text/html": [
       "7.88103268470244e-18"
      ],
      "text/latex": [
       "7.88103268470244e-18"
      ],
      "text/markdown": [
       "7.88103268470244e-18"
      ],
      "text/plain": [
       "[1] 7.881033e-18"
      ]
     },
     "metadata": {},
     "output_type": "display_data"
    },
    {
     "data": {
      "text/html": [
       "0.25006398073111"
      ],
      "text/latex": [
       "0.25006398073111"
      ],
      "text/markdown": [
       "0.25006398073111"
      ],
      "text/plain": [
       "[1] 0.250064"
      ]
     },
     "metadata": {},
     "output_type": "display_data"
    }
   ],
   "source": [
    "Geno = fread(\"/net/fantasia/home/yjingj/GIT/bfGWAS_SS/1KG_example/Test_Wkdir/output/CFH_REGION_1KG.geno\", \n",
    "            header = TRUE)\n",
    "setkey(Geno, ID)\n",
    "\n",
    "Pheno = read.table(\"/net/fantasia/home/yjingj/GIT/bfGWAS_SS/1KG_example/ExData/phenoAMD_1KG.txt\")\n",
    "#head(Pheno)\n",
    "pheno_id = colnames(Geno)[-(1:5)]\n",
    "Pheno[, 2] = Pheno[, 2] - mean(Pheno[, 2])\n",
    "mean(Pheno[, 2])\n",
    "var(Pheno[, 2])\n",
    "#length(pheno_id)\n",
    "#head(pheno_id)\n",
    "\n"
   ]
  },
  {
   "cell_type": "code",
   "execution_count": 217,
   "metadata": {
    "collapsed": false
   },
   "outputs": [
    {
     "data": {
      "text/html": [
       "<ol class=list-inline>\n",
       "\t<li>3689</li>\n",
       "\t<li>12</li>\n",
       "</ol>\n"
      ],
      "text/latex": [
       "\\begin{enumerate*}\n",
       "\\item 3689\n",
       "\\item 12\n",
       "\\end{enumerate*}\n"
      ],
      "text/markdown": [
       "1. 3689\n",
       "2. 12\n",
       "\n",
       "\n"
      ],
      "text/plain": [
       "[1] 3689   12"
      ]
     },
     "metadata": {},
     "output_type": "display_data"
    },
    {
     "data": {
      "text/html": [
       "<table>\n",
       "<thead><tr><th scope=col>ID</th><th scope=col>CHR</th><th scope=col>POS</th><th scope=col>REF</th><th scope=col>ALT</th><th scope=col>beta</th><th scope=col>beta_sd</th><th scope=col>MAF</th><th scope=col>xtx</th></tr></thead>\n",
       "<tbody>\n",
       "\t<tr><td>esv3588466                                                </td><td>1                                                         </td><td>196602664                                                 </td><td><span style=white-space:pre-wrap>&lt;CN0&gt;       </span></td><td>A                                                         </td><td>-0.1159780                                                </td><td>0.0380308                                                 </td><td>0.0343450                                                 </td><td>172.1850                                                  </td></tr>\n",
       "\t<tr><td>esv3588478                                                </td><td>1                                                         </td><td>196782355                                                 </td><td><span style=white-space:pre-wrap>&lt;CN0&gt;       </span></td><td>G                                                         </td><td> 0.0831023                                                </td><td>0.0506731                                                 </td><td>0.0193690                                                 </td><td> 97.2424                                                  </td></tr>\n",
       "\t<tr><td>esv3588481                                                </td><td>1                                                         </td><td>196852281                                                 </td><td><span style=white-space:pre-wrap>&lt;CN0&gt;       </span></td><td>T                                                         </td><td> 0.1162310                                                </td><td>0.0538265                                                 </td><td>0.0169728                                                 </td><td> 86.1146                                                  </td></tr>\n",
       "\t<tr><td>esv3588483        </td><td>1                 </td><td>196886381         </td><td>&lt;INS:ME:ALU&gt;</td><td>A                 </td><td> 0.1597630        </td><td>0.0454223         </td><td>0.0253594         </td><td>120.5590          </td></tr>\n",
       "\t<tr><td>rs1009188   </td><td>1           </td><td>197257090   </td><td>C           </td><td>T           </td><td> 0.0143283  </td><td>0.0175096   </td><td>0.1892970   </td><td>815.0930    </td></tr>\n",
       "\t<tr><td>rs10159146  </td><td>1           </td><td>196181359   </td><td>G           </td><td>A           </td><td> 0.0872630  </td><td>0.0622940   </td><td>0.9872200   </td><td> 64.3642    </td></tr>\n",
       "</tbody>\n",
       "</table>\n"
      ],
      "text/latex": [
       "\\begin{tabular}{r|lllllllll}\n",
       " ID & CHR & POS & REF & ALT & beta & beta\\_sd & MAF & xtx\\\\\n",
       "\\hline\n",
       "\t esv3588466   & 1            & 196602664    & <CN0>        & A            & -0.1159780   & 0.0380308    & 0.0343450    & 172.1850    \\\\\n",
       "\t esv3588478   & 1            & 196782355    & <CN0>        & G            &  0.0831023   & 0.0506731    & 0.0193690    &  97.2424    \\\\\n",
       "\t esv3588481   & 1            & 196852281    & <CN0>        & T            &  0.1162310   & 0.0538265    & 0.0169728    &  86.1146    \\\\\n",
       "\t esv3588483   & 1            & 196886381    & <INS:ME:ALU> & A            &  0.1597630   & 0.0454223    & 0.0253594    & 120.5590    \\\\\n",
       "\t rs1009188    & 1            & 197257090    & C            & T            &  0.0143283   & 0.0175096    & 0.1892970    & 815.0930    \\\\\n",
       "\t rs10159146   & 1            & 196181359    & G            & A            &  0.0872630   & 0.0622940    & 0.9872200    &  64.3642    \\\\\n",
       "\\end{tabular}\n"
      ],
      "text/markdown": [
       "\n",
       "ID | CHR | POS | REF | ALT | beta | beta_sd | MAF | xtx | \n",
       "|---|---|---|---|---|---|\n",
       "| esv3588466   | 1            | 196602664    | <CN0>        | A            | -0.1159780   | 0.0380308    | 0.0343450    | 172.1850     | \n",
       "| esv3588478   | 1            | 196782355    | <CN0>        | G            |  0.0831023   | 0.0506731    | 0.0193690    |  97.2424     | \n",
       "| esv3588481   | 1            | 196852281    | <CN0>        | T            |  0.1162310   | 0.0538265    | 0.0169728    |  86.1146     | \n",
       "| esv3588483   | 1            | 196886381    | <INS:ME:ALU> | A            |  0.1597630   | 0.0454223    | 0.0253594    | 120.5590     | \n",
       "| rs1009188    | 1            | 197257090    | C            | T            |  0.0143283   | 0.0175096    | 0.1892970    | 815.0930     | \n",
       "| rs10159146   | 1            | 196181359    | G            | A            |  0.0872630   | 0.0622940    | 0.9872200    |  64.3642     | \n",
       "\n",
       "\n"
      ],
      "text/plain": [
       "  ID         CHR POS       REF          ALT beta       beta_sd   MAF      \n",
       "1 esv3588466 1   196602664 <CN0>        A   -0.1159780 0.0380308 0.0343450\n",
       "2 esv3588478 1   196782355 <CN0>        G    0.0831023 0.0506731 0.0193690\n",
       "3 esv3588481 1   196852281 <CN0>        T    0.1162310 0.0538265 0.0169728\n",
       "4 esv3588483 1   196886381 <INS:ME:ALU> A    0.1597630 0.0454223 0.0253594\n",
       "5 rs1009188  1   197257090 C            T    0.0143283 0.0175096 0.1892970\n",
       "6 rs10159146 1   196181359 G            A    0.0872630 0.0622940 0.9872200\n",
       "  xtx     \n",
       "1 172.1850\n",
       "2  97.2424\n",
       "3  86.1146\n",
       "4 120.5590\n",
       "5 815.0930\n",
       "6  64.3642"
      ]
     },
     "metadata": {},
     "output_type": "display_data"
    },
    {
     "data": {
      "text/html": [
       "<ol class=list-inline>\n",
       "\t<li>3689</li>\n",
       "\t<li>9</li>\n",
       "</ol>\n"
      ],
      "text/latex": [
       "\\begin{enumerate*}\n",
       "\\item 3689\n",
       "\\item 9\n",
       "\\end{enumerate*}\n"
      ],
      "text/markdown": [
       "1. 3689\n",
       "2. 9\n",
       "\n",
       "\n"
      ],
      "text/plain": [
       "[1] 3689    9"
      ]
     },
     "metadata": {},
     "output_type": "display_data"
    }
   ],
   "source": [
    "\n",
    "paramdata_SS = Load_bfGWAS_SS(paste(data_dir, filehead, \"_SS.paramtemp\", sep=\"\"), header = FALSE)\n",
    "dim(paramdata_SS)\n",
    "\n",
    "VarSS = fread(\"/net/fantasia/home/yjingj/GIT/bfGWAS_SS/1KG_example/Test_Wkdir/output/CFH_REGION_1KG_SS.VarSS\", \n",
    "                  header = TRUE)\n",
    "setnames(VarSS, c(\"ID\", \"CHR\", \"POS\", \"REF\", \"ALT\", \"beta\", \"beta_sd\", \"MAF\", \"xtx\") )\n",
    "setkey(VarSS, ID)\n",
    "head(VarSS)\n",
    "dim(VarSS)"
   ]
  },
  {
   "cell_type": "code",
   "execution_count": null,
   "metadata": {
    "collapsed": false
   },
   "outputs": [
    {
     "data": {
      "text/html": [
       "<ol class=list-inline>\n",
       "\t<li>2504</li>\n",
       "\t<li>3690</li>\n",
       "</ol>\n"
      ],
      "text/latex": [
       "\\begin{enumerate*}\n",
       "\\item 2504\n",
       "\\item 3690\n",
       "\\end{enumerate*}\n"
      ],
      "text/markdown": [
       "1. 2504\n",
       "2. 3690\n",
       "\n",
       "\n"
      ],
      "text/plain": [
       "[1] 2504 3690"
      ]
     },
     "metadata": {},
     "output_type": "display_data"
    }
   ],
   "source": [
    "X = as.data.frame(t(Geno[paramdata_SS$ID, -(1:5), with = FALSE]) )\n",
    "dim(X)\n",
    "#apply(X, 2, mean) / 2\n",
    "X = scale(X, center = TRUE, scale = FALSE)\n",
    "\n",
    "XtX = t(X) %*% X \n",
    "\n",
    "mybeta = t(X) %*% Pheno[, 2] / diag(XtX)\n"
   ]
  },
  {
   "cell_type": "code",
   "execution_count": 202,
   "metadata": {
    "collapsed": false
   },
   "outputs": [
    {
     "data": {
      "text/html": [
       "<ol class=list-inline>\n",
       "\t<li>2504</li>\n",
       "\t<li>3</li>\n",
       "</ol>\n"
      ],
      "text/latex": [
       "\\begin{enumerate*}\n",
       "\\item 2504\n",
       "\\item 3\n",
       "\\end{enumerate*}\n"
      ],
      "text/markdown": [
       "1. 2504\n",
       "2. 3\n",
       "\n",
       "\n"
      ],
      "text/plain": [
       "[1] 2504    3"
      ]
     },
     "metadata": {},
     "output_type": "display_data"
    },
    {
     "data": {
      "text/html": [
       "<ol class=list-inline>\n",
       "\t<li>3</li>\n",
       "\t<li>3</li>\n",
       "</ol>\n"
      ],
      "text/latex": [
       "\\begin{enumerate*}\n",
       "\\item 3\n",
       "\\item 3\n",
       "\\end{enumerate*}\n"
      ],
      "text/markdown": [
       "1. 3\n",
       "2. 3\n",
       "\n",
       "\n"
      ],
      "text/plain": [
       "[1] 3 3"
      ]
     },
     "metadata": {},
     "output_type": "display_data"
    },
    {
     "data": {
      "text/html": [
       "<ol class=list-inline>\n",
       "\t<li>3689</li>\n",
       "\t<li>12</li>\n",
       "</ol>\n"
      ],
      "text/latex": [
       "\\begin{enumerate*}\n",
       "\\item 3689\n",
       "\\item 12\n",
       "\\end{enumerate*}\n"
      ],
      "text/markdown": [
       "1. 3689\n",
       "2. 12\n",
       "\n",
       "\n"
      ],
      "text/plain": [
       "[1] 3689   12"
      ]
     },
     "metadata": {},
     "output_type": "display_data"
    },
    {
     "data": {
      "image/png": "[encoded data removed]",
      "text/plain": [
       "plot without title"
      ]
     },
     "metadata": {},
     "output_type": "display_data"
    }
   ],
   "source": [
    "#length(mybeta)\n",
    "#length(paramdata_SS$beta)\n",
    "dim(X)\n",
    "#dim(Pheno)\n",
    "#plot(paramdata_SS$beta, t(mybeta)\n",
    "#abline(0, 1)\n",
    "\n",
    "dim(XtX)\n",
    "dim( paramdata_SS)\n",
    "\n",
    "plot(diag(XtX),)\n",
    "abline(0, 1)"
   ]
  },
  {
   "cell_type": "code",
   "execution_count": 215,
   "metadata": {
    "collapsed": false
   },
   "outputs": [
    {
     "data": {
      "text/html": [
       "<table>\n",
       "<thead><tr><th scope=col>ID</th><th scope=col>chr</th><th scope=col>bp</th><th scope=col>ref</th><th scope=col>alt</th><th scope=col>maf</th><th scope=col>func</th><th scope=col>beta</th><th scope=col>pi</th><th scope=col>Chi2</th><th scope=col>pval_Chi2</th><th scope=col>rank</th></tr></thead>\n",
       "<tbody>\n",
       "\t<tr><td>rs10922109  </td><td>1           </td><td>196704632   </td><td>A           </td><td>C           </td><td>0.50758790  </td><td>0           </td><td>-7.7027360  </td><td>1           </td><td>146.5545000 </td><td>9.820425e-34</td><td>   2        </td></tr>\n",
       "\t<tr><td>rs115235829 </td><td>1           </td><td>196202139   </td><td>C           </td><td>T           </td><td>0.01757188  </td><td>0           </td><td> 4.2649070  </td><td>1           </td><td> 12.0784000 </td><td>5.100931e-04</td><td> 244        </td></tr>\n",
       "\t<tr><td>rs559637118 </td><td>1           </td><td>196679909   </td><td>GT          </td><td>G           </td><td>0.50738820  </td><td>5           </td><td> 6.1103660  </td><td>1           </td><td>141.5647000 </td><td>1.210765e-32</td><td>   9        </td></tr>\n",
       "\t<tr><td>rs567086291 </td><td>1           </td><td>196674330   </td><td>AT          </td><td>A           </td><td>0.72044730  </td><td>5           </td><td> 0.3272705  </td><td>1           </td><td>  0.1239281 </td><td>7.248125e-01</td><td>3364        </td></tr>\n",
       "\t<tr><td>rs7540032   </td><td>1           </td><td>196701284   </td><td>T           </td><td>C           </td><td>0.48222840  </td><td>0           </td><td> 1.4189840  </td><td>1           </td><td>123.6698000 </td><td>9.949866e-29</td><td>  19        </td></tr>\n",
       "</tbody>\n",
       "</table>\n"
      ],
      "text/latex": [
       "\\begin{tabular}{r|llllllllllll}\n",
       " ID & chr & bp & ref & alt & maf & func & beta & pi & Chi2 & pval\\_Chi2 & rank\\\\\n",
       "\\hline\n",
       "\t rs10922109   & 1            & 196704632    & A            & C            & 0.50758790   & 0            & -7.7027360   & 1            & 146.5545000  & 9.820425e-34 &    2        \\\\\n",
       "\t rs115235829  & 1            & 196202139    & C            & T            & 0.01757188   & 0            &  4.2649070   & 1            &  12.0784000  & 5.100931e-04 &  244        \\\\\n",
       "\t rs559637118  & 1            & 196679909    & GT           & G            & 0.50738820   & 5            &  6.1103660   & 1            & 141.5647000  & 1.210765e-32 &    9        \\\\\n",
       "\t rs567086291  & 1            & 196674330    & AT           & A            & 0.72044730   & 5            &  0.3272705   & 1            &   0.1239281  & 7.248125e-01 & 3364        \\\\\n",
       "\t rs7540032    & 1            & 196701284    & T            & C            & 0.48222840   & 0            &  1.4189840   & 1            & 123.6698000  & 9.949866e-29 &   19        \\\\\n",
       "\\end{tabular}\n"
      ],
      "text/markdown": [
       "\n",
       "ID | chr | bp | ref | alt | maf | func | beta | pi | Chi2 | pval_Chi2 | rank | \n",
       "|---|---|---|---|---|\n",
       "| rs10922109   | 1            | 196704632    | A            | C            | 0.50758790   | 0            | -7.7027360   | 1            | 146.5545000  | 9.820425e-34 |    2         | \n",
       "| rs115235829  | 1            | 196202139    | C            | T            | 0.01757188   | 0            |  4.2649070   | 1            |  12.0784000  | 5.100931e-04 |  244         | \n",
       "| rs559637118  | 1            | 196679909    | GT           | G            | 0.50738820   | 5            |  6.1103660   | 1            | 141.5647000  | 1.210765e-32 |    9         | \n",
       "| rs567086291  | 1            | 196674330    | AT           | A            | 0.72044730   | 5            |  0.3272705   | 1            |   0.1239281  | 7.248125e-01 | 3364         | \n",
       "| rs7540032    | 1            | 196701284    | T            | C            | 0.48222840   | 0            |  1.4189840   | 1            | 123.6698000  | 9.949866e-29 |   19         | \n",
       "\n",
       "\n"
      ],
      "text/plain": [
       "  ID          chr bp        ref alt maf        func beta       pi Chi2       \n",
       "1 rs10922109  1   196704632 A   C   0.50758790 0    -7.7027360 1  146.5545000\n",
       "2 rs115235829 1   196202139 C   T   0.01757188 0     4.2649070 1   12.0784000\n",
       "3 rs559637118 1   196679909 GT  G   0.50738820 5     6.1103660 1  141.5647000\n",
       "4 rs567086291 1   196674330 AT  A   0.72044730 5     0.3272705 1    0.1239281\n",
       "5 rs7540032   1   196701284 T   C   0.48222840 0     1.4189840 1  123.6698000\n",
       "  pval_Chi2    rank\n",
       "1 9.820425e-34    2\n",
       "2 5.100931e-04  244\n",
       "3 1.210765e-32    9\n",
       "4 7.248125e-01 3364\n",
       "5 9.949866e-29   19"
      ]
     },
     "metadata": {},
     "output_type": "display_data"
    },
    {
     "data": {
      "text/plain": [
       "\n",
       "Call:\n",
       "lm(formula = y ~ ., data = test_data)\n",
       "\n",
       "Residuals:\n",
       "    Min      1Q  Median      3Q     Max \n",
       "-0.7863 -0.4396 -0.2282  0.4357  0.8142 \n",
       "\n",
       "Coefficients:\n",
       "              Estimate Std. Error t value Pr(>|t|)    \n",
       "(Intercept) -4.333e-16  9.614e-03   0.000  1.00000    \n",
       "rs10922109  -2.512e-01  9.277e-02  -2.708  0.00682 ** \n",
       "rs115235829  1.351e-01  5.126e-02   2.637  0.00843 ** \n",
       "rs559637118 -2.592e-03  8.399e-02  -0.031  0.97539    \n",
       "rs567086291  1.247e-01  1.724e-02   7.234 6.22e-13 ***\n",
       "rs7540032    4.231e-02  4.274e-02   0.990  0.32232    \n",
       "---\n",
       "Signif. codes:  0 ‘***’ 0.001 ‘**’ 0.01 ‘*’ 0.05 ‘.’ 0.1 ‘ ’ 1\n",
       "\n",
       "Residual standard error: 0.4811 on 2498 degrees of freedom\n",
       "Multiple R-squared:  0.07635,\tAdjusted R-squared:  0.0745 \n",
       "F-statistic:  41.3 on 5 and 2498 DF,  p-value: < 2.2e-16\n"
      ]
     },
     "metadata": {},
     "output_type": "display_data"
    }
   ],
   "source": [
    "test_snp = paramdata_SS$ID[paramdata_SS$rank %in% c(2, 9, 19, 244, 3364) ]\n",
    "paramdata_SS[test_snp, ]\n",
    "\n",
    "X = as.data.frame(t(Geno[test_snp, -(1:5), with = FALSE]) )\n",
    "colnames(X) = test_snp\n",
    "#apply(X, 2, mean) / 2\n",
    "X = scale(X, center = TRUE, scale = FALSE)\n",
    "\n",
    "test_data = data.frame(y = Pheno[, 2], X)\n",
    "#head(test_data)\n",
    "\n",
    "fit = lm(y~., data = test_data)\n",
    "summary(fit)"
   ]
  },
  {
   "cell_type": "code",
   "execution_count": 214,
   "metadata": {
    "collapsed": false
   },
   "outputs": [
    {
     "data": {
      "text/html": [
       "<ol class=list-inline>\n",
       "\t<li>82</li>\n",
       "\t<li>612</li>\n",
       "\t<li>2716</li>\n",
       "\t<li>2750</li>\n",
       "\t<li>3236</li>\n",
       "</ol>\n"
      ],
      "text/latex": [
       "\\begin{enumerate*}\n",
       "\\item 82\n",
       "\\item 612\n",
       "\\item 2716\n",
       "\\item 2750\n",
       "\\item 3236\n",
       "\\end{enumerate*}\n"
      ],
      "text/markdown": [
       "1. 82\n",
       "2. 612\n",
       "3. 2716\n",
       "4. 2750\n",
       "5. 3236\n",
       "\n",
       "\n"
      ],
      "text/plain": [
       "[1]   82  612 2716 2750 3236"
      ]
     },
     "metadata": {},
     "output_type": "display_data"
    },
    {
     "data": {
      "text/html": [
       "<table>\n",
       "<thead><tr><th scope=col>ID</th><th scope=col>chr</th><th scope=col>bp</th><th scope=col>ref</th><th scope=col>alt</th><th scope=col>maf</th><th scope=col>func</th><th scope=col>beta</th><th scope=col>pi</th><th scope=col>Chi2</th><th scope=col>pval_Chi2</th><th scope=col>rank</th></tr></thead>\n",
       "<tbody>\n",
       "\t<tr><td>rs10922109  </td><td>1           </td><td>196704632   </td><td>A           </td><td>C           </td><td>0.50758790  </td><td>0           </td><td>-7.7027360  </td><td>1           </td><td>146.5545000 </td><td>9.820425e-34</td><td>   2        </td></tr>\n",
       "\t<tr><td>rs115235829 </td><td>1           </td><td>196202139   </td><td>C           </td><td>T           </td><td>0.01757188  </td><td>0           </td><td> 4.2649070  </td><td>1           </td><td> 12.0784000 </td><td>5.100931e-04</td><td> 244        </td></tr>\n",
       "\t<tr><td>rs559637118 </td><td>1           </td><td>196679909   </td><td>GT          </td><td>G           </td><td>0.50738820  </td><td>5           </td><td> 6.1103660  </td><td>1           </td><td>141.5647000 </td><td>1.210765e-32</td><td>   9        </td></tr>\n",
       "\t<tr><td>rs567086291 </td><td>1           </td><td>196674330   </td><td>AT          </td><td>A           </td><td>0.72044730  </td><td>5           </td><td> 0.3272705  </td><td>1           </td><td>  0.1239281 </td><td>7.248125e-01</td><td>3364        </td></tr>\n",
       "\t<tr><td>rs7540032   </td><td>1           </td><td>196701284   </td><td>T           </td><td>C           </td><td>0.48222840  </td><td>0           </td><td> 1.4189840  </td><td>1           </td><td>123.6698000 </td><td>9.949866e-29</td><td>  19        </td></tr>\n",
       "</tbody>\n",
       "</table>\n"
      ],
      "text/latex": [
       "\\begin{tabular}{r|llllllllllll}\n",
       " ID & chr & bp & ref & alt & maf & func & beta & pi & Chi2 & pval\\_Chi2 & rank\\\\\n",
       "\\hline\n",
       "\t rs10922109   & 1            & 196704632    & A            & C            & 0.50758790   & 0            & -7.7027360   & 1            & 146.5545000  & 9.820425e-34 &    2        \\\\\n",
       "\t rs115235829  & 1            & 196202139    & C            & T            & 0.01757188   & 0            &  4.2649070   & 1            &  12.0784000  & 5.100931e-04 &  244        \\\\\n",
       "\t rs559637118  & 1            & 196679909    & GT           & G            & 0.50738820   & 5            &  6.1103660   & 1            & 141.5647000  & 1.210765e-32 &    9        \\\\\n",
       "\t rs567086291  & 1            & 196674330    & AT           & A            & 0.72044730   & 5            &  0.3272705   & 1            &   0.1239281  & 7.248125e-01 & 3364        \\\\\n",
       "\t rs7540032    & 1            & 196701284    & T            & C            & 0.48222840   & 0            &  1.4189840   & 1            & 123.6698000  & 9.949866e-29 &   19        \\\\\n",
       "\\end{tabular}\n"
      ],
      "text/markdown": [
       "\n",
       "ID | chr | bp | ref | alt | maf | func | beta | pi | Chi2 | pval_Chi2 | rank | \n",
       "|---|---|---|---|---|\n",
       "| rs10922109   | 1            | 196704632    | A            | C            | 0.50758790   | 0            | -7.7027360   | 1            | 146.5545000  | 9.820425e-34 |    2         | \n",
       "| rs115235829  | 1            | 196202139    | C            | T            | 0.01757188   | 0            |  4.2649070   | 1            |  12.0784000  | 5.100931e-04 |  244         | \n",
       "| rs559637118  | 1            | 196679909    | GT           | G            | 0.50738820   | 5            |  6.1103660   | 1            | 141.5647000  | 1.210765e-32 |    9         | \n",
       "| rs567086291  | 1            | 196674330    | AT           | A            | 0.72044730   | 5            |  0.3272705   | 1            |   0.1239281  | 7.248125e-01 | 3364         | \n",
       "| rs7540032    | 1            | 196701284    | T            | C            | 0.48222840   | 0            |  1.4189840   | 1            | 123.6698000  | 9.949866e-29 |   19         | \n",
       "\n",
       "\n"
      ],
      "text/plain": [
       "  ID          chr bp        ref alt maf        func beta       pi Chi2       \n",
       "1 rs10922109  1   196704632 A   C   0.50758790 0    -7.7027360 1  146.5545000\n",
       "2 rs115235829 1   196202139 C   T   0.01757188 0     4.2649070 1   12.0784000\n",
       "3 rs559637118 1   196679909 GT  G   0.50738820 5     6.1103660 1  141.5647000\n",
       "4 rs567086291 1   196674330 AT  A   0.72044730 5     0.3272705 1    0.1239281\n",
       "5 rs7540032   1   196701284 T   C   0.48222840 0     1.4189840 1  123.6698000\n",
       "  pval_Chi2    rank\n",
       "1 9.820425e-34    2\n",
       "2 5.100931e-04  244\n",
       "3 1.210765e-32    9\n",
       "4 7.248125e-01 3364\n",
       "5 9.949866e-29   19"
      ]
     },
     "metadata": {},
     "output_type": "display_data"
    },
    {
     "data": {
      "text/html": [
       "<table>\n",
       "<thead><tr><th></th><th scope=col>rs10922109</th><th scope=col>rs115235829</th><th scope=col>rs559637118</th><th scope=col>rs567086291</th><th scope=col>rs7540032</th></tr></thead>\n",
       "<tbody>\n",
       "\t<tr><th scope=row>rs10922109</th><td>1259.42332</td><td>-47.33546 </td><td>1248.43850</td><td> 536.24601</td><td>1190.3506 </td></tr>\n",
       "\t<tr><th scope=row>rs115235829</th><td> -47.33546</td><td> 90.90735 </td><td> -48.30032</td><td> -47.79872</td><td> -42.8722 </td></tr>\n",
       "\t<tr><th scope=row>rs559637118</th><td>1248.43850</td><td>-48.30032 </td><td>1270.45327</td><td> 538.68690</td><td>1181.3151 </td></tr>\n",
       "\t<tr><th scope=row>rs567086291</th><td> 536.24601</td><td>-47.79872 </td><td> 538.68690</td><td>1017.25240</td><td> 504.2396 </td></tr>\n",
       "\t<tr><th scope=row>rs7540032</th><td>1190.35064</td><td>-42.87220 </td><td>1181.31510</td><td> 504.23962</td><td>1251.8367 </td></tr>\n",
       "</tbody>\n",
       "</table>\n"
      ],
      "text/latex": [
       "\\begin{tabular}{r|lllll}\n",
       "  & rs10922109 & rs115235829 & rs559637118 & rs567086291 & rs7540032\\\\\n",
       "\\hline\n",
       "\trs10922109 & 1259.42332 & -47.33546  & 1248.43850 &  536.24601 & 1190.3506 \\\\\n",
       "\trs115235829 &  -47.33546 &  90.90735  &  -48.30032 &  -47.79872 &  -42.8722 \\\\\n",
       "\trs559637118 & 1248.43850 & -48.30032  & 1270.45327 &  538.68690 & 1181.3151 \\\\\n",
       "\trs567086291 &  536.24601 & -47.79872  &  538.68690 & 1017.25240 &  504.2396 \\\\\n",
       "\trs7540032 & 1190.35064 & -42.87220  & 1181.31510 &  504.23962 & 1251.8367 \\\\\n",
       "\\end{tabular}\n"
      ],
      "text/markdown": [
       "\n",
       "| <!--/--> | rs10922109 | rs115235829 | rs559637118 | rs567086291 | rs7540032 | \n",
       "|---|---|---|---|---|\n",
       "| rs10922109 | 1259.42332 | -47.33546  | 1248.43850 |  536.24601 | 1190.3506  | \n",
       "| rs115235829 |  -47.33546 |  90.90735  |  -48.30032 |  -47.79872 |  -42.8722  | \n",
       "| rs559637118 | 1248.43850 | -48.30032  | 1270.45327 |  538.68690 | 1181.3151  | \n",
       "| rs567086291 |  536.24601 | -47.79872  |  538.68690 | 1017.25240 |  504.2396  | \n",
       "| rs7540032 | 1190.35064 | -42.87220  | 1181.31510 |  504.23962 | 1251.8367  | \n",
       "\n",
       "\n"
      ],
      "text/plain": [
       "            rs10922109 rs115235829 rs559637118 rs567086291 rs7540032\n",
       "rs10922109  1259.42332 -47.33546   1248.43850   536.24601  1190.3506\n",
       "rs115235829  -47.33546  90.90735    -48.30032   -47.79872   -42.8722\n",
       "rs559637118 1248.43850 -48.30032   1270.45327   538.68690  1181.3151\n",
       "rs567086291  536.24601 -47.79872    538.68690  1017.25240   504.2396\n",
       "rs7540032   1190.35064 -42.87220   1181.31510   504.23962  1251.8367"
      ]
     },
     "metadata": {},
     "output_type": "display_data"
    },
    {
     "data": {
      "text/html": [
       "<table>\n",
       "<tbody>\n",
       "\t<tr><th scope=row>rs10922109</th><td>-208.772364</td></tr>\n",
       "\t<tr><th scope=row>rs115235829</th><td>  16.527157</td></tr>\n",
       "\t<tr><th scope=row>rs559637118</th><td>-206.278355</td></tr>\n",
       "\t<tr><th scope=row>rs567086291</th><td>   5.613419</td></tr>\n",
       "\t<tr><th scope=row>rs7540032</th><td>-192.033147</td></tr>\n",
       "</tbody>\n",
       "</table>\n"
      ],
      "text/latex": [
       "\\begin{tabular}{r|l}\n",
       "\trs10922109 & -208.772364\\\\\n",
       "\trs115235829 &   16.527157\\\\\n",
       "\trs559637118 & -206.278355\\\\\n",
       "\trs567086291 &    5.613419\\\\\n",
       "\trs7540032 & -192.033147\\\\\n",
       "\\end{tabular}\n"
      ],
      "text/markdown": [
       "\n",
       "| rs10922109 | -208.772364 | \n",
       "| rs115235829 |   16.527157 | \n",
       "| rs559637118 | -206.278355 | \n",
       "| rs567086291 |    5.613419 | \n",
       "| rs7540032 | -192.033147 | \n",
       "\n",
       "\n"
      ],
      "text/plain": [
       "            [,1]       \n",
       "rs10922109  -208.772364\n",
       "rs115235829   16.527157\n",
       "rs559637118 -206.278355\n",
       "rs567086291    5.613419\n",
       "rs7540032   -192.033147"
      ]
     },
     "metadata": {},
     "output_type": "display_data"
    },
    {
     "data": {
      "text/html": [
       "<table>\n",
       "<tbody>\n",
       "\t<tr><th scope=row>rs10922109</th><td>-0.251203114</td></tr>\n",
       "\t<tr><th scope=row>rs115235829</th><td> 0.135139476</td></tr>\n",
       "\t<tr><th scope=row>rs559637118</th><td>-0.002591591</td></tr>\n",
       "\t<tr><th scope=row>rs567086291</th><td> 0.124688582</td></tr>\n",
       "\t<tr><th scope=row>rs7540032</th><td> 0.042312974</td></tr>\n",
       "</tbody>\n",
       "</table>\n"
      ],
      "text/latex": [
       "\\begin{tabular}{r|l}\n",
       "\trs10922109 & -0.251203114\\\\\n",
       "\trs115235829 &  0.135139476\\\\\n",
       "\trs559637118 & -0.002591591\\\\\n",
       "\trs567086291 &  0.124688582\\\\\n",
       "\trs7540032 &  0.042312974\\\\\n",
       "\\end{tabular}\n"
      ],
      "text/markdown": [
       "\n",
       "| rs10922109 | -0.251203114 | \n",
       "| rs115235829 |  0.135139476 | \n",
       "| rs559637118 | -0.002591591 | \n",
       "| rs567086291 |  0.124688582 | \n",
       "| rs7540032 |  0.042312974 | \n",
       "\n",
       "\n"
      ],
      "text/plain": [
       "            [,1]        \n",
       "rs10922109  -0.251203114\n",
       "rs115235829  0.135139476\n",
       "rs559637118 -0.002591591\n",
       "rs567086291  0.124688582\n",
       "rs7540032    0.042312974"
      ]
     },
     "metadata": {},
     "output_type": "display_data"
    },
    {
     "data": {
      "text/html": [
       "<ol class=list-inline>\n",
       "\t<li>0.505990415335463</li>\n",
       "\t<li>0.505990415335463</li>\n",
       "\t<li>-0.494009584664537</li>\n",
       "\t<li>0.505990415335463</li>\n",
       "\t<li>-0.494009584664537</li>\n",
       "\t<li>0.505990415335463</li>\n",
       "</ol>\n"
      ],
      "text/latex": [
       "\\begin{enumerate*}\n",
       "\\item 0.505990415335463\n",
       "\\item 0.505990415335463\n",
       "\\item -0.494009584664537\n",
       "\\item 0.505990415335463\n",
       "\\item -0.494009584664537\n",
       "\\item 0.505990415335463\n",
       "\\end{enumerate*}\n"
      ],
      "text/markdown": [
       "1. 0.505990415335463\n",
       "2. 0.505990415335463\n",
       "3. -0.494009584664537\n",
       "4. 0.505990415335463\n",
       "5. -0.494009584664537\n",
       "6. 0.505990415335463\n",
       "\n",
       "\n"
      ],
      "text/plain": [
       "[1]  0.5059904  0.5059904 -0.4940096  0.5059904 -0.4940096  0.5059904"
      ]
     },
     "metadata": {},
     "output_type": "display_data"
    }
   ],
   "source": [
    "idx= sort(which(paramdata_SS$rank %in% c(2, 9, 19, 244, 3364)))\n",
    "test_snp = paramdata_SS$ID[idx]\n",
    "paramdata_SS[test_snp, ]\n",
    "\n",
    "X = as.data.frame(t(Geno[test_snp, -(1:5), with = FALSE]) )\n",
    "colnames(X) = test_snp\n",
    "#apply(X, 2, mean) / 2\n",
    "X = scale(X, center = TRUE, scale = FALSE)\n",
    "\n",
    "XtX = t(X) %*% (X)\n",
    "XtX\n",
    "Xty = t(X) %*% Pheno[, 2]\n",
    "Xty\n",
    "solve(XtX) %*% Xty\n",
    "\n",
    "#VarSS[test_snp, ]\n",
    "#diag(XtX) \n",
    "#mybeta = (Xty)  / diag(XtX) \n",
    "#mybeta\n",
    "\n",
    "head(Pheno[, 2])"
   ]
  },
  {
   "cell_type": "code",
   "execution_count": 233,
   "metadata": {
    "collapsed": false
   },
   "outputs": [
    {
     "data": {
      "text/html": [
       "'/net/fantasia/home/yjingj/GIT/bfGWAS_SS/1KG_example/Test_Wkdir/output/CFH_REGION_1KG_SS.paramtemp'"
      ],
      "text/latex": [
       "'/net/fantasia/home/yjingj/GIT/bfGWAS\\_SS/1KG\\_example/Test\\_Wkdir/output/CFH\\_REGION\\_1KG\\_SS.paramtemp'"
      ],
      "text/markdown": [
       "'/net/fantasia/home/yjingj/GIT/bfGWAS_SS/1KG_example/Test_Wkdir/output/CFH_REGION_1KG_SS.paramtemp'"
      ],
      "text/plain": [
       "[1] \"/net/fantasia/home/yjingj/GIT/bfGWAS_SS/1KG_example/Test_Wkdir/output/CFH_REGION_1KG_SS.paramtemp\""
      ]
     },
     "metadata": {},
     "output_type": "display_data"
    }
   ],
   "source": [
    "filehead=\"CFH_REGION_1KG\"\n",
    "\n",
    "paste(data_dir, filehead, \"_SS.paramtemp\", sep=\"\")\n",
    "\n",
    "paramdata_SS = Load_bfGWAS_SS(paste(data_dir, filehead, \"_SS.paramtemp\", sep=\"\"), header = FALSE)\n",
    "#dim(paramdata_SS)\n",
    "#head(paramdata_SS)\n",
    "\n",
    "#paste(data_dir, filehead, \".paramtemp\", sep=\"\")\n",
    "paramdata = Load_bfGWAS(paste(data_dir, filehead, \".paramtemp\", sep=\"\"))\n",
    "#dim(paramdata)\n",
    "#head(paramdata)\n",
    "\n",
    "#sum(paramdata$ID == paramdata_SS$ID)"
   ]
  },
  {
   "cell_type": "code",
   "execution_count": 234,
   "metadata": {
    "collapsed": false
   },
   "outputs": [
    {
     "data": {
      "text/html": [
       "<ol class=list-inline>\n",
       "\t<li>0</li>\n",
       "\t<li>0.99962</li>\n",
       "</ol>\n"
      ],
      "text/latex": [
       "\\begin{enumerate*}\n",
       "\\item 0\n",
       "\\item 0.99962\n",
       "\\end{enumerate*}\n"
      ],
      "text/markdown": [
       "1. 0\n",
       "2. 0.99962\n",
       "\n",
       "\n"
      ],
      "text/plain": [
       "[1] 0.00000 0.99962"
      ]
     },
     "metadata": {},
     "output_type": "display_data"
    },
    {
     "data": {
      "text/html": [
       "<ol class=list-inline>\n",
       "\t<li>54</li>\n",
       "\t<li>81</li>\n",
       "\t<li>82</li>\n",
       "\t<li>1289</li>\n",
       "\t<li>2407</li>\n",
       "\t<li>2478</li>\n",
       "</ol>\n"
      ],
      "text/latex": [
       "\\begin{enumerate*}\n",
       "\\item 54\n",
       "\\item 81\n",
       "\\item 82\n",
       "\\item 1289\n",
       "\\item 2407\n",
       "\\item 2478\n",
       "\\end{enumerate*}\n"
      ],
      "text/markdown": [
       "1. 54\n",
       "2. 81\n",
       "3. 82\n",
       "4. 1289\n",
       "5. 2407\n",
       "6. 2478\n",
       "\n",
       "\n"
      ],
      "text/plain": [
       "[1]   54   81   82 1289 2407 2478"
      ]
     },
     "metadata": {},
     "output_type": "display_data"
    },
    {
     "data": {
      "text/html": [
       "<table>\n",
       "<thead><tr><th scope=col>ID</th><th scope=col>chr</th><th scope=col>bp</th><th scope=col>ref</th><th scope=col>alt</th><th scope=col>maf</th><th scope=col>func</th><th scope=col>beta</th><th scope=col>pi</th><th scope=col>Zscore</th><th scope=col>SE_beta</th><th scope=col>LRT</th><th scope=col>pval_LRT</th><th scope=col>rank</th></tr></thead>\n",
       "<tbody>\n",
       "\t<tr><td>rs10801558  </td><td>1           </td><td>196699044   </td><td>G           </td><td>T           </td><td>0.5075879   </td><td>0           </td><td>-0.2215196  </td><td>0.17168     </td><td>-11.76653   </td><td>0.02817263  </td><td>142.4260    </td><td>7.847559e-33</td><td>1           </td></tr>\n",
       "\t<tr><td>rs10922108  </td><td>1           </td><td>196701473   </td><td>T           </td><td>A           </td><td>0.5079872   </td><td>0           </td><td>-0.2214209  </td><td>0.16980     </td><td>-11.76614   </td><td>0.02817333  </td><td>142.4164    </td><td>7.885465e-33</td><td>3           </td></tr>\n",
       "\t<tr><td>rs10922109  </td><td>1           </td><td>196704632   </td><td>A           </td><td>C           </td><td>0.5075879   </td><td>0           </td><td>-0.2215142  </td><td>0.18018     </td><td>-11.76653   </td><td>0.02817263  </td><td>142.4260    </td><td>7.847559e-33</td><td>2           </td></tr>\n",
       "\t<tr><td>rs1410996   </td><td>1           </td><td>196696933   </td><td>A           </td><td>G           </td><td>0.5049920   </td><td>0           </td><td>-0.2200650  </td><td>0.12886     </td><td>-11.76492   </td><td>0.02809103  </td><td>142.3860    </td><td>8.007010e-33</td><td>5           </td></tr>\n",
       "\t<tr><td>rs35352142  </td><td>1           </td><td>196712902   </td><td>T           </td><td>C           </td><td>0.1920927   </td><td>0           </td><td> 0.2874086  </td><td>0.99962     </td><td> 11.93900   </td><td>0.03494836  </td><td>146.7576    </td><td>8.865969e-34</td><td>0           </td></tr>\n",
       "\t<tr><td>rs3766405   </td><td>1           </td><td>196695161   </td><td>T           </td><td>C           </td><td>0.5049920   </td><td>0           </td><td>-0.2200873  </td><td>0.13818     </td><td>-11.76492   </td><td>0.02809103  </td><td>142.3860    </td><td>8.007010e-33</td><td>4           </td></tr>\n",
       "</tbody>\n",
       "</table>\n"
      ],
      "text/latex": [
       "\\begin{tabular}{r|llllllllllllll}\n",
       " ID & chr & bp & ref & alt & maf & func & beta & pi & Zscore & SE\\_beta & LRT & pval\\_LRT & rank\\\\\n",
       "\\hline\n",
       "\t rs10801558   & 1            & 196699044    & G            & T            & 0.5075879    & 0            & -0.2215196   & 0.17168      & -11.76653    & 0.02817263   & 142.4260     & 7.847559e-33 & 1           \\\\\n",
       "\t rs10922108   & 1            & 196701473    & T            & A            & 0.5079872    & 0            & -0.2214209   & 0.16980      & -11.76614    & 0.02817333   & 142.4164     & 7.885465e-33 & 3           \\\\\n",
       "\t rs10922109   & 1            & 196704632    & A            & C            & 0.5075879    & 0            & -0.2215142   & 0.18018      & -11.76653    & 0.02817263   & 142.4260     & 7.847559e-33 & 2           \\\\\n",
       "\t rs1410996    & 1            & 196696933    & A            & G            & 0.5049920    & 0            & -0.2200650   & 0.12886      & -11.76492    & 0.02809103   & 142.3860     & 8.007010e-33 & 5           \\\\\n",
       "\t rs35352142   & 1            & 196712902    & T            & C            & 0.1920927    & 0            &  0.2874086   & 0.99962      &  11.93900    & 0.03494836   & 146.7576     & 8.865969e-34 & 0           \\\\\n",
       "\t rs3766405    & 1            & 196695161    & T            & C            & 0.5049920    & 0            & -0.2200873   & 0.13818      & -11.76492    & 0.02809103   & 142.3860     & 8.007010e-33 & 4           \\\\\n",
       "\\end{tabular}\n"
      ],
      "text/markdown": [
       "\n",
       "ID | chr | bp | ref | alt | maf | func | beta | pi | Zscore | SE_beta | LRT | pval_LRT | rank | \n",
       "|---|---|---|---|---|---|\n",
       "| rs10801558   | 1            | 196699044    | G            | T            | 0.5075879    | 0            | -0.2215196   | 0.17168      | -11.76653    | 0.02817263   | 142.4260     | 7.847559e-33 | 1            | \n",
       "| rs10922108   | 1            | 196701473    | T            | A            | 0.5079872    | 0            | -0.2214209   | 0.16980      | -11.76614    | 0.02817333   | 142.4164     | 7.885465e-33 | 3            | \n",
       "| rs10922109   | 1            | 196704632    | A            | C            | 0.5075879    | 0            | -0.2215142   | 0.18018      | -11.76653    | 0.02817263   | 142.4260     | 7.847559e-33 | 2            | \n",
       "| rs1410996    | 1            | 196696933    | A            | G            | 0.5049920    | 0            | -0.2200650   | 0.12886      | -11.76492    | 0.02809103   | 142.3860     | 8.007010e-33 | 5            | \n",
       "| rs35352142   | 1            | 196712902    | T            | C            | 0.1920927    | 0            |  0.2874086   | 0.99962      |  11.93900    | 0.03494836   | 146.7576     | 8.865969e-34 | 0            | \n",
       "| rs3766405    | 1            | 196695161    | T            | C            | 0.5049920    | 0            | -0.2200873   | 0.13818      | -11.76492    | 0.02809103   | 142.3860     | 8.007010e-33 | 4            | \n",
       "\n",
       "\n"
      ],
      "text/plain": [
       "  ID         chr bp        ref alt maf       func beta       pi      Zscore   \n",
       "1 rs10801558 1   196699044 G   T   0.5075879 0    -0.2215196 0.17168 -11.76653\n",
       "2 rs10922108 1   196701473 T   A   0.5079872 0    -0.2214209 0.16980 -11.76614\n",
       "3 rs10922109 1   196704632 A   C   0.5075879 0    -0.2215142 0.18018 -11.76653\n",
       "4 rs1410996  1   196696933 A   G   0.5049920 0    -0.2200650 0.12886 -11.76492\n",
       "5 rs35352142 1   196712902 T   C   0.1920927 0     0.2874086 0.99962  11.93900\n",
       "6 rs3766405  1   196695161 T   C   0.5049920 0    -0.2200873 0.13818 -11.76492\n",
       "  SE_beta    LRT      pval_LRT     rank\n",
       "1 0.02817263 142.4260 7.847559e-33 1   \n",
       "2 0.02817333 142.4164 7.885465e-33 3   \n",
       "3 0.02817263 142.4260 7.847559e-33 2   \n",
       "4 0.02809103 142.3860 8.007010e-33 5   \n",
       "5 0.03494836 146.7576 8.865969e-34 0   \n",
       "6 0.02809103 142.3860 8.007010e-33 4   "
      ]
     },
     "metadata": {},
     "output_type": "display_data"
    },
    {
     "data": {
      "text/html": [
       "<ol class=list-inline>\n",
       "\t<li>0</li>\n",
       "\t<li>0.77528</li>\n",
       "</ol>\n"
      ],
      "text/latex": [
       "\\begin{enumerate*}\n",
       "\\item 0\n",
       "\\item 0.77528\n",
       "\\end{enumerate*}\n"
      ],
      "text/markdown": [
       "1. 0\n",
       "2. 0.77528\n",
       "\n",
       "\n"
      ],
      "text/plain": [
       "[1] 0.00000 0.77528"
      ]
     },
     "metadata": {},
     "output_type": "display_data"
    },
    {
     "data": {
      "text/html": [
       "<ol class=list-inline>\n",
       "\t<li>54</li>\n",
       "\t<li>81</li>\n",
       "\t<li>82</li>\n",
       "\t<li>1289</li>\n",
       "\t<li>2363</li>\n",
       "\t<li>2407</li>\n",
       "\t<li>2478</li>\n",
       "</ol>\n"
      ],
      "text/latex": [
       "\\begin{enumerate*}\n",
       "\\item 54\n",
       "\\item 81\n",
       "\\item 82\n",
       "\\item 1289\n",
       "\\item 2363\n",
       "\\item 2407\n",
       "\\item 2478\n",
       "\\end{enumerate*}\n"
      ],
      "text/markdown": [
       "1. 54\n",
       "2. 81\n",
       "3. 82\n",
       "4. 1289\n",
       "5. 2363\n",
       "6. 2407\n",
       "7. 2478\n",
       "\n",
       "\n"
      ],
      "text/plain": [
       "[1]   54   81   82 1289 2363 2407 2478"
      ]
     },
     "metadata": {},
     "output_type": "display_data"
    },
    {
     "data": {
      "text/html": [
       "<table>\n",
       "<thead><tr><th scope=col>ID</th><th scope=col>chr</th><th scope=col>bp</th><th scope=col>ref</th><th scope=col>alt</th><th scope=col>maf</th><th scope=col>func</th><th scope=col>beta</th><th scope=col>pi</th><th scope=col>Chi2</th><th scope=col>pval_Chi2</th><th scope=col>rank</th></tr></thead>\n",
       "<tbody>\n",
       "\t<tr><td>rs10801558  </td><td>1           </td><td>196699044   </td><td>G           </td><td>T           </td><td>0.5075879   </td><td>0           </td><td>-0.1166513  </td><td>0.18474     </td><td>146.5545    </td><td>9.820425e-34</td><td> 1          </td></tr>\n",
       "\t<tr><td>rs10922108  </td><td>1           </td><td>196701473   </td><td>T           </td><td>A           </td><td>0.5079872   </td><td>0           </td><td>-0.1173704  </td><td>0.17604     </td><td>146.5443    </td><td>9.870634e-34</td><td> 3          </td></tr>\n",
       "\t<tr><td>rs10922109  </td><td>1           </td><td>196704632   </td><td>A           </td><td>C           </td><td>0.5075879   </td><td>0           </td><td>-0.1169267  </td><td>0.18190     </td><td>146.5545    </td><td>9.820425e-34</td><td> 2          </td></tr>\n",
       "\t<tr><td>rs1410996   </td><td>1           </td><td>196696933   </td><td>A           </td><td>G           </td><td>0.5049920   </td><td>0           </td><td>-0.1142839  </td><td>0.12428     </td><td>146.5122    </td><td>1.003172e-33</td><td> 5          </td></tr>\n",
       "\t<tr><td>rs34351402  </td><td>1           </td><td>196643724   </td><td>A           </td><td>AT          </td><td>0.2264377   </td><td>5           </td><td> 0.1235083  </td><td>0.12672     </td><td>123.5908    </td><td>1.035379e-28</td><td>20          </td></tr>\n",
       "\t<tr><td>rs35352142  </td><td>1           </td><td>196712902   </td><td>T           </td><td>C           </td><td>0.1920927   </td><td>0           </td><td> 0.1437758  </td><td>0.77528     </td><td>151.1435    </td><td>9.750339e-35</td><td> 0          </td></tr>\n",
       "\t<tr><td>rs3766405   </td><td>1           </td><td>196695161   </td><td>T           </td><td>C           </td><td>0.5049920   </td><td>0           </td><td>-0.1141617  </td><td>0.12404     </td><td>146.5122    </td><td>1.003172e-33</td><td> 4          </td></tr>\n",
       "</tbody>\n",
       "</table>\n"
      ],
      "text/latex": [
       "\\begin{tabular}{r|llllllllllll}\n",
       " ID & chr & bp & ref & alt & maf & func & beta & pi & Chi2 & pval\\_Chi2 & rank\\\\\n",
       "\\hline\n",
       "\t rs10801558   & 1            & 196699044    & G            & T            & 0.5075879    & 0            & -0.1166513   & 0.18474      & 146.5545     & 9.820425e-34 &  1          \\\\\n",
       "\t rs10922108   & 1            & 196701473    & T            & A            & 0.5079872    & 0            & -0.1173704   & 0.17604      & 146.5443     & 9.870634e-34 &  3          \\\\\n",
       "\t rs10922109   & 1            & 196704632    & A            & C            & 0.5075879    & 0            & -0.1169267   & 0.18190      & 146.5545     & 9.820425e-34 &  2          \\\\\n",
       "\t rs1410996    & 1            & 196696933    & A            & G            & 0.5049920    & 0            & -0.1142839   & 0.12428      & 146.5122     & 1.003172e-33 &  5          \\\\\n",
       "\t rs34351402   & 1            & 196643724    & A            & AT           & 0.2264377    & 5            &  0.1235083   & 0.12672      & 123.5908     & 1.035379e-28 & 20          \\\\\n",
       "\t rs35352142   & 1            & 196712902    & T            & C            & 0.1920927    & 0            &  0.1437758   & 0.77528      & 151.1435     & 9.750339e-35 &  0          \\\\\n",
       "\t rs3766405    & 1            & 196695161    & T            & C            & 0.5049920    & 0            & -0.1141617   & 0.12404      & 146.5122     & 1.003172e-33 &  4          \\\\\n",
       "\\end{tabular}\n"
      ],
      "text/markdown": [
       "\n",
       "ID | chr | bp | ref | alt | maf | func | beta | pi | Chi2 | pval_Chi2 | rank | \n",
       "|---|---|---|---|---|---|---|\n",
       "| rs10801558   | 1            | 196699044    | G            | T            | 0.5075879    | 0            | -0.1166513   | 0.18474      | 146.5545     | 9.820425e-34 |  1           | \n",
       "| rs10922108   | 1            | 196701473    | T            | A            | 0.5079872    | 0            | -0.1173704   | 0.17604      | 146.5443     | 9.870634e-34 |  3           | \n",
       "| rs10922109   | 1            | 196704632    | A            | C            | 0.5075879    | 0            | -0.1169267   | 0.18190      | 146.5545     | 9.820425e-34 |  2           | \n",
       "| rs1410996    | 1            | 196696933    | A            | G            | 0.5049920    | 0            | -0.1142839   | 0.12428      | 146.5122     | 1.003172e-33 |  5           | \n",
       "| rs34351402   | 1            | 196643724    | A            | AT           | 0.2264377    | 5            |  0.1235083   | 0.12672      | 123.5908     | 1.035379e-28 | 20           | \n",
       "| rs35352142   | 1            | 196712902    | T            | C            | 0.1920927    | 0            |  0.1437758   | 0.77528      | 151.1435     | 9.750339e-35 |  0           | \n",
       "| rs3766405    | 1            | 196695161    | T            | C            | 0.5049920    | 0            | -0.1141617   | 0.12404      | 146.5122     | 1.003172e-33 |  4           | \n",
       "\n",
       "\n"
      ],
      "text/plain": [
       "  ID         chr bp        ref alt maf       func beta       pi      Chi2    \n",
       "1 rs10801558 1   196699044 G   T   0.5075879 0    -0.1166513 0.18474 146.5545\n",
       "2 rs10922108 1   196701473 T   A   0.5079872 0    -0.1173704 0.17604 146.5443\n",
       "3 rs10922109 1   196704632 A   C   0.5075879 0    -0.1169267 0.18190 146.5545\n",
       "4 rs1410996  1   196696933 A   G   0.5049920 0    -0.1142839 0.12428 146.5122\n",
       "5 rs34351402 1   196643724 A   AT  0.2264377 5     0.1235083 0.12672 123.5908\n",
       "6 rs35352142 1   196712902 T   C   0.1920927 0     0.1437758 0.77528 151.1435\n",
       "7 rs3766405  1   196695161 T   C   0.5049920 0    -0.1141617 0.12404 146.5122\n",
       "  pval_Chi2    rank\n",
       "1 9.820425e-34  1  \n",
       "2 9.870634e-34  3  \n",
       "3 9.820425e-34  2  \n",
       "4 1.003172e-33  5  \n",
       "5 1.035379e-28 20  \n",
       "6 9.750339e-35  0  \n",
       "7 1.003172e-33  4  "
      ]
     },
     "metadata": {},
     "output_type": "display_data"
    }
   ],
   "source": [
    "#plot(-log10(paramdata_SS$pval_Chi2), -log10(paramdata$pval_LRT))\n",
    "\n",
    "\n",
    "range(paramdata$pi)\n",
    "which(paramdata$pi > 0.1068)\n",
    "paramdata[paramdata$pi > 0.1068, ]\n",
    "\n",
    "range(paramdata_SS$pi)\n",
    "which(paramdata_SS$pi > 0.1068)\n",
    "paramdata_SS[paramdata_SS$pi > 0.1068, ]\n",
    "\n",
    "#plot(paramdata_SS$pi, paramdata$pi)\n",
    "#abline(0, 1)"
   ]
  },
  {
   "cell_type": "code",
   "execution_count": 237,
   "metadata": {
    "collapsed": false
   },
   "outputs": [
    {
     "data": {
      "text/html": [
       "2.00134"
      ],
      "text/latex": [
       "2.00134"
      ],
      "text/markdown": [
       "2.00134"
      ],
      "text/plain": [
       "[1] 2.00134"
      ]
     },
     "metadata": {},
     "output_type": "display_data"
    },
    {
     "data": {
      "text/html": [
       "2.00138"
      ],
      "text/latex": [
       "2.00138"
      ],
      "text/markdown": [
       "2.00138"
      ],
      "text/plain": [
       "[1] 2.00138"
      ]
     },
     "metadata": {},
     "output_type": "display_data"
    },
    {
     "data": {
      "image/png": "[encoded data removed]",
      "text/plain": [
       "plot without title"
      ]
     },
     "metadata": {},
     "output_type": "display_data"
    }
   ],
   "source": [
    "sum(paramdata_SS$pi)\n",
    "sum(paramdata$pi)\n",
    "#plot(paramdata_SS$pval_Chi2, paramdata$pval_LRT)\n",
    "\n",
    "plot(paramdata_SS$pi, paramdata$pi)\n",
    "#plot(paramdata_SS$beta[which(paramdata_SS$pi > 0.1068)], paramdata$beta[which(paramdata_SS$pi > 0.1068)])\n",
    "abline(0, 1)"
   ]
  },
  {
   "cell_type": "code",
   "execution_count": 232,
   "metadata": {
    "collapsed": false
   },
   "outputs": [
    {
     "data": {
      "text/html": [
       "0.836483008071694"
      ],
      "text/latex": [
       "0.836483008071694"
      ],
      "text/markdown": [
       "0.836483008071694"
      ],
      "text/plain": [
       "[1] 0.836483"
      ]
     },
     "metadata": {},
     "output_type": "display_data"
    }
   ],
   "source": [
    "a =  6.86473;  b = 1.1225 # 1KG example\n",
    "(a - b) / a \n",
    "\n",
    "#a = 74; b = 17.8\n",
    "#(a - b) / a "
   ]
  }
 ],
 "metadata": {
  "kernelspec": {
   "display_name": "R",
   "language": "R",
   "name": "ir"
  }
 },
 "nbformat": 4,
 "nbformat_minor": 2
}
